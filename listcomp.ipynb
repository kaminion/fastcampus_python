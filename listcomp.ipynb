{
 "metadata": {
  "language_info": {
   "codemirror_mode": {
    "name": "ipython",
    "version": 3
   },
   "file_extension": ".py",
   "mimetype": "text/x-python",
   "name": "python",
   "nbconvert_exporter": "python",
   "pygments_lexer": "ipython3",
   "version": "3.8.3-final"
  },
  "orig_nbformat": 2,
  "kernelspec": {
   "name": "python3",
   "display_name": "Python 3",
   "language": "python"
  }
 },
 "nbformat": 4,
 "nbformat_minor": 2,
 "cells": [
  {
   "cell_type": "code",
   "execution_count": 61,
   "metadata": {},
   "outputs": [
    {
     "output_type": "stream",
     "name": "stdout",
     "text": [
      "[0, 4, 2, 6, 6]\n['Kakao.exe']\n['합격', '불합격', '합격', '합격', '합격', '불합격', '불합격']\n['**', '**', '**', '**', '**', '**', '**', '**', '**', '**', '**', '**']\n['101동', '102동', '유종훈', '조아름']\n"
     ]
    }
   ],
   "source": [
    "데이터 = [0, 4, 2, 3, 6, 11, 15, 6]\n",
    "\n",
    "arr = [i for i in 데이터 if i % 2 == 0]\n",
    "print(arr)\n",
    "\n",
    "# 데이터중 확장자 exe\n",
    "데이터 = [\"Kakao.exe\", \"window.dll\", \"사진.jpg\", \"나혼자산다.mp3\"]\n",
    "\n",
    "arr = [i for i in 데이터 if i.split('.')[-1] == 'exe']\n",
    "print(arr)\n",
    "\n",
    "# 50점 이상\n",
    "데이터 = [100, 49, 52, 93, 77, 2, 45]\n",
    "\n",
    "# for문이 들어가면 if문이 먼저옴\n",
    "arr = [\"합격\" if i >= 50 else \"불합격\" for i in 데이터 ]\n",
    "print(arr)\n",
    "\n",
    "arr = [\"**\" for x in range(3) for y in range(4) ]\n",
    "print(arr)\n",
    "\n",
    "data = [\n",
    "    [\"101동\", \"102동\"], \n",
    "    [\"유종훈\", \"조아름\"]\n",
    "]\n",
    "arr = [y for x in data for y in x]\n",
    "print(arr)\n"
   ]
  },
  {
   "cell_type": "code",
   "execution_count": null,
   "metadata": {},
   "outputs": [],
   "source": []
  }
 ]
}