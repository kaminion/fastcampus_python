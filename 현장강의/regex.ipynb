{
 "metadata": {
  "language_info": {
   "codemirror_mode": {
    "name": "ipython",
    "version": 3
   },
   "file_extension": ".py",
   "mimetype": "text/x-python",
   "name": "python",
   "nbconvert_exporter": "python",
   "pygments_lexer": "ipython3",
   "version": "3.8.3-final"
  },
  "orig_nbformat": 2,
  "kernelspec": {
   "name": "python3",
   "display_name": "Python 3",
   "language": "python"
  }
 },
 "nbformat": 4,
 "nbformat_minor": 2,
 "cells": [
  {
   "cell_type": "code",
   "execution_count": 238,
   "metadata": {},
   "outputs": [
    {
     "output_type": "stream",
     "name": "stdout",
     "text": [
      "park 800905-*******\nkim  700905-*******\na 320130-*******\n010/1234/5678\n['Brayan@naver.com', 'mk_kim@fastcampus.co.kr']\n['010', '7216', '7721', '010', '2080', '6900', '0107', '2167', '721']\n"
     ]
    }
   ],
   "source": [
    "# 정규표현식\n",
    "\n",
    "import re\n",
    "\n",
    "text = '''\n",
    "park 800905-1049118\n",
    "kim  700905-1059119\n",
    "a 320130-4030000\n",
    "'''\n",
    "\n",
    "data = text.strip().split('\\n')\n",
    "re.compile(r'가능')\n",
    "\n",
    "compiler = re.compile(r'-(.*)')\n",
    "\n",
    "for row in data :\n",
    "    # replaceData = re.findall(r'-(.*)', row)[0]\n",
    "    # result = row.replace(replaceData, '*' * 7)\n",
    "    result = compiler.sub('-' + '*' * 7, row)\n",
    "    print(result)\n",
    "#re.findall(r'-(.*)', text)\n",
    "\n",
    "\n",
    "\n",
    "# text = '안녕하세요 반갑습니다. 안녕히가세요. 늘 안녕하시구요, 안녕 내사랑'\n",
    "# re.findall(r'안녕', text)\n",
    "\n",
    "\n",
    "\n",
    "# search는 왼쪽에서 오른쪽으로 탐색\n",
    "# split 지정해준 단어를 기준으로 나눠줌\n",
    "\n",
    "# 패턴을 문자열로 치환 sub\n",
    "\n",
    "text = '010-1234-5678'\n",
    "p = re.compile(r'-')\n",
    "m = p.sub('/', text)\n",
    "print(m)\n",
    "\n",
    "# 두글자 영어로 구성된 엑셀 파일을 선택하라.\n",
    "text = '''\n",
    "az.xls\n",
    "al1.xls\n",
    "ali.xls\n",
    "2ee.xls\n",
    "a2d.xls\n",
    "a2e.xls\n",
    "'''\n",
    "p = re.compile(r'[a-z]\\.xls')\n",
    "p.findall(text)\n",
    "\n",
    "\n",
    "\n",
    "text = '''\n",
    "    Brayden Jo 010-7216-7721 Brayan@naver.com\n",
    "    minky kim 010-2080-6900 mk_kim@fastcampus.co.kr\n",
    "    01072167721\n",
    "    aaaa-bbbb-cccc\n",
    "'''\n",
    "# 번호 선택\n",
    "# p = re.compile(r'[0-9]{2,3}\\-?[0-9]{3,4}\\-?[0-9]{3,4}')\n",
    "# print(p.findall(text))\n",
    "p = re.compile(r'[a-zA-Z0-9_.]+\\@[a-zA-Z]+\\.[a-zA-Z.]+')\n",
    "print(p.findall(text))\n",
    "\n",
    "p = re.compile(r'\\d{3,4}')\n",
    "print(p.findall(text))"
   ]
  },
  {
   "cell_type": "code",
   "execution_count": null,
   "metadata": {},
   "outputs": [],
   "source": []
  }
 ]
}