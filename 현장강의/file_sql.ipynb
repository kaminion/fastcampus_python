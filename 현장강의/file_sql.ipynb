{
 "metadata": {
  "language_info": {
   "codemirror_mode": {
    "name": "ipython",
    "version": 3
   },
   "file_extension": ".py",
   "mimetype": "text/x-python",
   "name": "python",
   "nbconvert_exporter": "python",
   "pygments_lexer": "ipython3",
   "version": "3.8.3-final"
  },
  "orig_nbformat": 2,
  "kernelspec": {
   "name": "python3",
   "display_name": "Python 3",
   "language": "python"
  }
 },
 "nbformat": 4,
 "nbformat_minor": 2,
 "cells": [
  {
   "cell_type": "code",
   "execution_count": 2,
   "metadata": {},
   "outputs": [],
   "source": [
    "import pybithumb\n",
    "\n",
    "data = pybithumb.get_tickers()\n",
    "f = open('price.txt', 'w')\n",
    "\n",
    "for i in data:\n",
    "    f.write(f'{i} {pybithumb.get_current_price(i)}\\n')\n",
    "f.close()\n"
   ]
  },
  {
   "cell_type": "code",
   "execution_count": 4,
   "metadata": {},
   "outputs": [
    {
     "output_type": "stream",
     "name": "stdout",
     "text": [
      "['BTC', '42889000.0']\n['ETH', '1351000.0']\n['DASH', '145900.0']\n['LTC', '167700.0']\n['ETC', '8635.0']\n['XRP', '326.7']\n['BCH', '570000.0']\n['ZEC', '121100.0']\n['QTUM', '3338.0']\n['BTG', '15060.0']\n['EOS', '3072.0']\n['ICX', '664.4']\n['TRX', '33.15']\n['ELF', '134.0']\n['OMG', '3613.0']\n['KNC', '1205.0']\n['GLM', '133.1']\n['ZIL', '75.55']\n['WAXP', '44.19']\n['POWR', '120.7']\n['LRC', '443.2']\n['STEEM', '200.5']\n['STRAX', '706.8']\n['AE', '117.2']\n['ZRX', '566.3']\n['REP', '21800.0']\n['XEM', '248.0']\n['SNT', '60.07']\n['ADA', '354.0']\n['CTXC', '141.6']\n['BAT', '273.0']\n['WTC', '388.1']\n['THETA', '2380.0']\n['LOOM', '49.46']\n['WAVES', '7150.0']\n['TRUE', '183.8']\n['LINK', '19970.0']\n['RNT', '12.74']\n['ENJ', '200.0']\n['VET', '28.77']\n['MTL', '449.6']\n['IOST', '17.55']\n['TMTG', '5.755']\n['QKC', '6.3']\n['BZNT', '4.099']\n['HDAC', '18.1']\n['NPXS', '0.4305']\n['LBA', '4.92']\n['WET', '5.09']\n['AMO', '0.4917']\n['BSV', '236300.0']\n['DAC', '2.828']\n['ORBS', '15.52']\n['VALOR', '286.7']\n['CON', '4.031']\n['ANKR', '9.628']\n['MIX', '2.268']\n['LAMB', '17.74']\n['CRO', '83.63']\n['FX', '74.1']\n['CHR', '27.9']\n['MBL', '1.739']\n['MXC', '15.81']\n['OGO', '7.311']\n['DVP', '74.5']\n['FCT', '55.6']\n['FNB', '5.05']\n['TRV', '17.16']\n['PCM', '7.799']\n['DAD', '159.9']\n['AOA', '1.917']\n['XSR', '3.859']\n['WOM', '190.1']\n['SOC', '12.57']\n['EM', '4.24']\n['QBZ', '5.252']\n['BOA', '84.35']\n['FLETA', '5.2']\n['SXP', '985.9']\n['COS', '8.36']\n['APIX', '65.08']\n['EL', '2.725']\n['BASIC', '7.15']\n['HIVE', '142.2']\n['XPR', '4.791']\n['FIT', '3.06']\n['EGG', '4.73']\n['BORA', '36.16']\n['ARPA', '23.47']\n['APM', '13.58']\n['ANW', '115.7']\n['CENNZ', '32.46']\n['EVZ', '12.22']\n['MCI', '6.606']\n['SRM', '1849.0']\n['QTCON', '15.59']\n['UNI', '7680.0']\n['YFI', '35780000.0']\n['UMA', '10390.0']\n['SAND', '45.12']\n['CVT', '114.2']\n['GOM2', '11.3']\n['RINGX', '33.6']\n['DVC', '46.5']\n['OBSR', '4.131']\n['ORC', '91.76']\n['POLA', '312.5']\n['AWO', '12.78']\n['ADP', '14.15']\n['MIR', '1829.0']\n['WOZX', '1394.0']\n['BCD', '900.0']\n['XLM', '333.5']\n['PIVX', '499.0']\n['GXC', '387.2']\n['BTT', '0.3994']\n['HYC', '2.04']\n['VSYS', '15.14']\n['IPX', '43.15']\n['WICC', '252.1']\n['ONT', '674.2']\n['LUNA', '916.0']\n['AION', '83.82']\n['META', '9.816']\n['ONG', '250.6']\n['ALGO', '518.2']\n['JST', '31.8']\n['XTZ', '2879.0']\n['MLK', '167.9']\n['WEMIX', '196.8']\n['DOT', '15830.0']\n['SUN', '7645.0']\n['ATOM', '8285.0']\n['BCHA', '20350.0']\n['TEMCO', '1.784']\n"
     ]
    }
   ],
   "source": [
    "f = open('price.txt', 'r')\n",
    "data = f.readlines()\n",
    "    \n",
    "for v in data :\n",
    "    result = v.strip().split() # 공백 제거후 split으로 분리 인자없을경우 공백 스페이스 엔터 기준\n",
    "    print(result)\n",
    "    "
   ]
  },
  {
   "cell_type": "code",
   "execution_count": 1,
   "metadata": {},
   "outputs": [],
   "source": [
    "import sqlite3\n",
    "\n",
    "con = sqlite3.connect('coin.db')\n",
    "cur = con.cursor()\n",
    "\n",
    "cur.execute(\"CREATE TABLE IF NOT EXISTS bithumb(coin text, price text)\")\n",
    "#cur.execute(\"DROP TABLE bithumb\")\n",
    "f = open('price.txt', 'r')\n",
    "data = f.readlines()\n",
    "f.close()\n",
    "for v in data :\n",
    "    result = v.strip().split()\n",
    "    sql = f\"INSERT INTO bithumb VALUES('{ result[0] }', '{result[1]}')\"\n",
    "    cur.execute(sql)\n",
    "    \n",
    "con.commit()\n",
    "con.close()\n"
   ]
  },
  {
   "cell_type": "code",
   "execution_count": 3,
   "metadata": {},
   "outputs": [
    {
     "output_type": "stream",
     "name": "stdout",
     "text": [
      "BTC의 가격 42996000.0원\nETH의 가격 1355000.0원\nDASH의 가격 146100.0원\nLTC의 가격 168200.0원\nETC의 가격 8655.0원\nXRP의 가격 327.0원\nBCH의 가격 572000.0원\nZEC의 가격 121200.0원\nQTUM의 가격 3316.0원\nBTG의 가격 15100.0원\nEOS의 가격 3075.0원\nICX의 가격 662.8원\nTRX의 가격 33.12원\nELF의 가격 133.0원\nOMG의 가격 3620.0원\nKNC의 가격 1194.0원\nGLM의 가격 133.1원\nZIL의 가격 75.43원\nWAXP의 가격 44.07원\nPOWR의 가격 120.7원\nLRC의 가격 443.3원\nSTEEM의 가격 200.9원\nSTRAX의 가격 706.8원\nAE의 가격 117.2원\nZRX의 가격 564.1원\nREP의 가격 21680.0원\nXEM의 가격 248.1원\nSNT의 가격 60.6원\nADA의 가격 354.9원\nCTXC의 가격 141.5원\nBAT의 가격 272.2원\nWTC의 가격 387.9원\nTHETA의 가격 2377.0원\nLOOM의 가격 49.46원\nWAVES의 가격 7150.0원\nTRUE의 가격 183.8원\nLINK의 가격 20070.0원\nRNT의 가격 12.86원\nENJ의 가격 200.0원\nVET의 가격 28.64원\nMTL의 가격 452.0원\nIOST의 가격 17.59원\nTMTG의 가격 5.76원\nQKC의 가격 6.29원\nBZNT의 가격 4.08원\nHDAC의 가격 18.1원\nNPXS의 가격 0.4337원\nLBA의 가격 4.92원\nWET의 가격 5.09원\nAMO의 가격 0.4938원\nBSV의 가격 237500.0원\nDAC의 가격 2.828원\nORBS의 가격 15.34원\nVALOR의 가격 283.7원\nCON의 가격 4.03원\nANKR의 가격 9.628원\nMIX의 가격 2.268원\nLAMB의 가격 17.9원\nCRO의 가격 83.63원\nFX의 가격 74.1원\nCHR의 가격 27.8원\nMBL의 가격 1.739원\nMXC의 가격 15.77원\nOGO의 가격 7.231원\nDVP의 가격 74.5원\nFCT의 가격 55.6원\nFNB의 가격 5.046원\nTRV의 가격 16.66원\nPCM의 가격 7.789원\nDAD의 가격 159.6원\nAOA의 가격 1.919원\nXSR의 가격 3.81원\nWOM의 가격 190.1원\nSOC의 가격 12.58원\nEM의 가격 4.239원\nQBZ의 가격 5.252원\nBOA의 가격 84.35원\nFLETA의 가격 5.2원\nSXP의 가격 983.9원\nCOS의 가격 8.36원\nAPIX의 가격 65.2원\nEL의 가격 2.735원\nBASIC의 가격 7.15원\nHIVE의 가격 142.0원\nXPR의 가격 4.825원\nFIT의 가격 3.06원\nEGG의 가격 4.73원\nBORA의 가격 36.28원\nARPA의 가격 23.47원\nAPM의 가격 13.58원\nANW의 가격 115.7원\nCENNZ의 가격 32.46원\nEVZ의 가격 12.23원\nMCI의 가격 6.569원\nSRM의 가격 1848.0원\nQTCON의 가격 15.59원\nUNI의 가격 7770.0원\nYFI의 가격 35816000.0원\nUMA의 가격 10360.0원\nSAND의 가격 45.09원\nCVT의 가격 113.9원\nGOM2의 가격 11.28원\nRINGX의 가격 33.89원\nDVC의 가격 46.5원\nOBSR의 가격 4.131원\nORC의 가격 91.76원\nPOLA의 가격 312.4원\nAWO의 가격 12.8원\nADP의 가격 14.15원\nMIR의 가격 1812.0원\nWOZX의 가격 1406.0원\nBCD의 가격 905.4원\nXLM의 가격 336.0원\nPIVX의 가격 499.7원\nGXC의 가격 387.4원\nBTT의 가격 0.3989원\nHYC의 가격 2.04원\nVSYS의 가격 15.14원\nIPX의 가격 43.15원\nWICC의 가격 252.1원\nONT의 가격 677.7원\nLUNA의 가격 919.8원\nAION의 가격 84.58원\nMETA의 가격 9.816원\nONG의 가격 253.9원\nALGO의 가격 517.6원\nJST의 가격 31.51원\nXTZ의 가격 2878.0원\nMLK의 가격 167.9원\nWEMIX의 가격 196.8원\nDOT의 가격 15910.0원\nSUN의 가격 7605.0원\nATOM의 가격 8310.0원\nBCHA의 가격 20440.0원\nTEMCO의 가격 1.783원\nBTC의 가격 42996000.0원\nETH의 가격 1355000.0원\nDASH의 가격 146100.0원\nLTC의 가격 168200.0원\nETC의 가격 8655.0원\nXRP의 가격 327.0원\nBCH의 가격 572000.0원\nZEC의 가격 121200.0원\nQTUM의 가격 3316.0원\nBTG의 가격 15100.0원\nEOS의 가격 3075.0원\nICX의 가격 662.8원\nTRX의 가격 33.12원\nELF의 가격 133.0원\nOMG의 가격 3620.0원\nKNC의 가격 1194.0원\nGLM의 가격 133.1원\nZIL의 가격 75.43원\nWAXP의 가격 44.07원\nPOWR의 가격 120.7원\nLRC의 가격 443.3원\nSTEEM의 가격 200.9원\nSTRAX의 가격 706.8원\nAE의 가격 117.2원\nZRX의 가격 564.1원\nREP의 가격 21680.0원\nXEM의 가격 248.1원\nSNT의 가격 60.6원\nADA의 가격 354.9원\nCTXC의 가격 141.5원\nBAT의 가격 272.2원\nWTC의 가격 387.9원\nTHETA의 가격 2377.0원\nLOOM의 가격 49.46원\nWAVES의 가격 7150.0원\nTRUE의 가격 183.8원\nLINK의 가격 20070.0원\nRNT의 가격 12.86원\nENJ의 가격 200.0원\nVET의 가격 28.64원\nMTL의 가격 452.0원\nIOST의 가격 17.59원\nTMTG의 가격 5.76원\nQKC의 가격 6.29원\nBZNT의 가격 4.08원\nHDAC의 가격 18.1원\nNPXS의 가격 0.4337원\nLBA의 가격 4.92원\nWET의 가격 5.09원\nAMO의 가격 0.4938원\nBSV의 가격 237500.0원\nDAC의 가격 2.828원\nORBS의 가격 15.34원\nVALOR의 가격 283.7원\nCON의 가격 4.03원\nANKR의 가격 9.628원\nMIX의 가격 2.268원\nLAMB의 가격 17.9원\nCRO의 가격 83.63원\nFX의 가격 74.1원\nCHR의 가격 27.8원\nMBL의 가격 1.739원\nMXC의 가격 15.77원\nOGO의 가격 7.231원\nDVP의 가격 74.5원\nFCT의 가격 55.6원\nFNB의 가격 5.046원\nTRV의 가격 16.66원\nPCM의 가격 7.789원\nDAD의 가격 159.6원\nAOA의 가격 1.919원\nXSR의 가격 3.81원\nWOM의 가격 190.1원\nSOC의 가격 12.58원\nEM의 가격 4.239원\nQBZ의 가격 5.252원\nBOA의 가격 84.35원\nFLETA의 가격 5.2원\nSXP의 가격 983.9원\nCOS의 가격 8.36원\nAPIX의 가격 65.2원\nEL의 가격 2.735원\nBASIC의 가격 7.15원\nHIVE의 가격 142.0원\nXPR의 가격 4.825원\nFIT의 가격 3.06원\nEGG의 가격 4.73원\nBORA의 가격 36.28원\nARPA의 가격 23.47원\nAPM의 가격 13.58원\nANW의 가격 115.7원\nCENNZ의 가격 32.46원\nEVZ의 가격 12.23원\nMCI의 가격 6.569원\nSRM의 가격 1848.0원\nQTCON의 가격 15.59원\nUNI의 가격 7770.0원\nYFI의 가격 35816000.0원\nUMA의 가격 10360.0원\nSAND의 가격 45.09원\nCVT의 가격 113.9원\nGOM2의 가격 11.28원\nRINGX의 가격 33.89원\nDVC의 가격 46.5원\nOBSR의 가격 4.131원\nORC의 가격 91.76원\nPOLA의 가격 312.4원\nAWO의 가격 12.8원\nADP의 가격 14.15원\nMIR의 가격 1812.0원\nWOZX의 가격 1406.0원\nBCD의 가격 905.4원\nXLM의 가격 336.0원\nPIVX의 가격 499.7원\nGXC의 가격 387.4원\nBTT의 가격 0.3989원\nHYC의 가격 2.04원\nVSYS의 가격 15.14원\nIPX의 가격 43.15원\nWICC의 가격 252.1원\nONT의 가격 677.7원\nLUNA의 가격 919.8원\nAION의 가격 84.58원\nMETA의 가격 9.816원\nONG의 가격 253.9원\nALGO의 가격 517.6원\nJST의 가격 31.51원\nXTZ의 가격 2878.0원\nMLK의 가격 167.9원\nWEMIX의 가격 196.8원\nDOT의 가격 15910.0원\nSUN의 가격 7605.0원\nATOM의 가격 8310.0원\nBCHA의 가격 20440.0원\nTEMCO의 가격 1.783원\n"
     ]
    }
   ],
   "source": [
    "con = sqlite3.connect('coin.db')\n",
    "cur = con.cursor()\n",
    "\n",
    "sql = \"SELECT * FROM bithumb\"\n",
    "cur.execute(sql)\n",
    "\n",
    "result = cur.fetchall()\n",
    "\n",
    "for v in result :\n",
    "    print(f\"{v[0]}의 가격 {v[1]}원\")\n",
    "\n",
    "con.commit()\n",
    "con.close()"
   ]
  },
  {
   "cell_type": "code",
   "execution_count": 5,
   "metadata": {},
   "outputs": [
    {
     "output_type": "stream",
     "name": "stdout",
     "text": [
      "생명주기 시작\nBTC 42889000.0\nETH 1351000.0\nDASH 145900.0\nLTC 167700.0\nETC 8635.0\nXRP 326.7\nBCH 570000.0\nZEC 121100.0\nQTUM 3338.0\nBTG 15060.0\nEOS 3072.0\nICX 664.4\nTRX 33.15\nELF 134.0\nOMG 3613.0\nKNC 1205.0\nGLM 133.1\nZIL 75.55\nWAXP 44.19\nPOWR 120.7\nLRC 443.2\nSTEEM 200.5\nSTRAX 706.8\nAE 117.2\nZRX 566.3\nREP 21800.0\nXEM 248.0\nSNT 60.07\nADA 354.0\nCTXC 141.6\nBAT 273.0\nWTC 388.1\nTHETA 2380.0\nLOOM 49.46\nWAVES 7150.0\nTRUE 183.8\nLINK 19970.0\nRNT 12.74\nENJ 200.0\nVET 28.77\nMTL 449.6\nIOST 17.55\nTMTG 5.755\nQKC 6.3\nBZNT 4.099\nHDAC 18.1\nNPXS 0.4305\nLBA 4.92\nWET 5.09\nAMO 0.4917\nBSV 236300.0\nDAC 2.828\nORBS 15.52\nVALOR 286.7\nCON 4.031\nANKR 9.628\nMIX 2.268\nLAMB 17.74\nCRO 83.63\nFX 74.1\nCHR 27.9\nMBL 1.739\nMXC 15.81\nOGO 7.311\nDVP 74.5\nFCT 55.6\nFNB 5.05\nTRV 17.16\nPCM 7.799\nDAD 159.9\nAOA 1.917\nXSR 3.859\nWOM 190.1\nSOC 12.57\nEM 4.24\nQBZ 5.252\nBOA 84.35\nFLETA 5.2\nSXP 985.9\nCOS 8.36\nAPIX 65.08\nEL 2.725\nBASIC 7.15\nHIVE 142.2\nXPR 4.791\nFIT 3.06\nEGG 4.73\nBORA 36.16\nARPA 23.47\nAPM 13.58\nANW 115.7\nCENNZ 32.46\nEVZ 12.22\nMCI 6.606\nSRM 1849.0\nQTCON 15.59\nUNI 7680.0\nYFI 35780000.0\nUMA 10390.0\nSAND 45.12\nCVT 114.2\nGOM2 11.3\nRINGX 33.6\nDVC 46.5\nOBSR 4.131\nORC 91.76\nPOLA 312.5\nAWO 12.78\nADP 14.15\nMIR 1829.0\nWOZX 1394.0\nBCD 900.0\nXLM 333.5\nPIVX 499.0\nGXC 387.2\nBTT 0.3994\nHYC 2.04\nVSYS 15.14\nIPX 43.15\nWICC 252.1\nONT 674.2\nLUNA 916.0\nAION 83.82\nMETA 9.816\nONG 250.6\nALGO 518.2\nJST 31.8\nXTZ 2879.0\nMLK 167.9\nWEMIX 196.8\nDOT 15830.0\nSUN 7645.0\nATOM 8285.0\nBCHA 20350.0\nTEMCO 1.784\n"
     ]
    }
   ],
   "source": [
    "class 파일읽기:\n",
    "    def __init__(self, path):\n",
    "        print(\"생명주기 시작\")\n",
    "        self.f = open(path, 'r')\n",
    "\n",
    "    def __del__(self):\n",
    "        print(\"생명주기 종료\")\n",
    "        self.f.close()\n",
    "    \n",
    "    def show(self):\n",
    "        data = self.f.readlines()\n",
    "        for v in data:\n",
    "            result = v.strip().split()\n",
    "            print(result[0], result[1])\n",
    "\n",
    "f = 파일읽기('price.txt')\n",
    "f.show()\n",
    "    \n",
    "    "
   ]
  }
 ]
}