{
 "metadata": {
  "language_info": {
   "codemirror_mode": {
    "name": "ipython",
    "version": 3
   },
   "file_extension": ".py",
   "mimetype": "text/x-python",
   "name": "python",
   "nbconvert_exporter": "python",
   "pygments_lexer": "ipython3",
   "version": "3.8.3-final"
  },
  "orig_nbformat": 2,
  "kernelspec": {
   "name": "python3",
   "display_name": "Python 3",
   "language": "python"
  }
 },
 "nbformat": 4,
 "nbformat_minor": 2,
 "cells": [
  {
   "cell_type": "code",
   "execution_count": 9,
   "metadata": {},
   "outputs": [
    {
     "output_type": "stream",
     "name": "stdout",
     "text": [
      "홀딩\n",
      "[37595000.0, 37527000.0, 37517000.0, 37517000.0, 37560000.0]\n",
      "홀딩\n",
      "[37527000.0, 37517000.0, 37517000.0, 37560000.0, 37560000.0]\n",
      "매수\n",
      "[37517000.0, 37517000.0, 37560000.0, 37560000.0, 37571000.0]\n",
      "매수\n",
      "[37517000.0, 37560000.0, 37560000.0, 37571000.0, 37571000.0]\n",
      "매수\n",
      "[37560000.0, 37560000.0, 37571000.0, 37571000.0, 37535000.0]\n",
      "홀딩\n",
      "[37560000.0, 37571000.0, 37571000.0, 37535000.0, 37535000.0]\n",
      "홀딩\n",
      "[37571000.0, 37571000.0, 37535000.0, 37535000.0, 37605000.0]\n",
      "매수\n",
      "[37571000.0, 37535000.0, 37535000.0, 37605000.0, 37576000.0]\n",
      "매수\n",
      "[37535000.0, 37535000.0, 37605000.0, 37576000.0, 37576000.0]\n",
      "매수\n"
     ]
    },
    {
     "output_type": "error",
     "ename": "KeyboardInterrupt",
     "evalue": "",
     "traceback": [
      "\u001b[1;31m---------------------------------------------------------------------------\u001b[0m",
      "\u001b[1;31mKeyboardInterrupt\u001b[0m                         Traceback (most recent call last)",
      "\u001b[1;32m<ipython-input-9-1215acdfeace>\u001b[0m in \u001b[0;36m<module>\u001b[1;34m\u001b[0m\n\u001b[0;32m     37\u001b[0m     \u001b[0m데이터수집\u001b[0m\u001b[1;33m(\u001b[0m\u001b[0mhistory\u001b[0m\u001b[1;33m)\u001b[0m\u001b[1;33m\u001b[0m\u001b[1;33m\u001b[0m\u001b[0m\n\u001b[0;32m     38\u001b[0m     \u001b[0m조건부매수\u001b[0m\u001b[1;33m(\u001b[0m \u001b[0mhistory\u001b[0m \u001b[1;33m)\u001b[0m\u001b[1;33m\u001b[0m\u001b[1;33m\u001b[0m\u001b[0m\n\u001b[1;32m---> 39\u001b[1;33m     \u001b[0mtime\u001b[0m\u001b[1;33m.\u001b[0m\u001b[0msleep\u001b[0m\u001b[1;33m(\u001b[0m\u001b[1;36m1\u001b[0m\u001b[1;33m)\u001b[0m\u001b[1;33m\u001b[0m\u001b[1;33m\u001b[0m\u001b[0m\n\u001b[0m",
      "\u001b[1;31mKeyboardInterrupt\u001b[0m: "
     ]
    }
   ],
   "source": [
    "import pybithumb\n",
    "import time\n",
    "\"\"\"\n",
    "def 데이터수집(리스트):\n",
    "    pass\n",
    "def 알고리즘(  가격데이터 ):\n",
    "    pass\n",
    "while True:\n",
    "    # A 가 데이터를 수집 담당\n",
    "    # - 리스트로 출력\n",
    "    # B 알고리즘 매수 매도 담당\n",
    "    # - 리스트를 입력 받음\n",
    "\"\"\"\n",
    "def 데이터수집( history ):\n",
    "    price = pybithumb.get_current_price(\"BTC\")\n",
    "    if len(history) == 5:   \n",
    "        # 메소드를 이용하여 깊은 복사 이용\n",
    "        history.remove(history[0])\n",
    "        history.append(price)\n",
    "        # 얕은 복사가 일어남\n",
    "        # history = history[1:]\n",
    "        #for i in range(0, (len(history) - 1)) :\n",
    "            #history[i] = history[i + 1]\n",
    "        #history[len(history) - 1] = price\n",
    "\n",
    "        print(history)\n",
    "    else:\n",
    "        history = history.append(price)\n",
    "def 조건부매수(  price_history ):\n",
    "    if len(price_history) == 5: \n",
    "        if price_history[0] < price_history[-1]:        \n",
    "            print(\"매수\")\n",
    "        else:\n",
    "            print(\"홀딩\")\n",
    "history = [  ]\n",
    "while True:    \n",
    "    데이터수집(history)        \n",
    "    조건부매수( history )\n",
    "    time.sleep(1)"
   ]
  },
  {
   "cell_type": "code",
   "execution_count": null,
   "metadata": {},
   "outputs": [],
   "source": []
  }
 ]
}