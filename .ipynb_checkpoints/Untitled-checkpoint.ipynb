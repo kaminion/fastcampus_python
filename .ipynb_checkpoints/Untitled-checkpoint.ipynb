{
 "cells": [
  {
   "cell_type": "code",
   "execution_count": 44,
   "metadata": {},
   "outputs": [
    {
     "name": "stdout",
     "output_type": "stream",
     "text": [
      "제품명: 최대 25% / 한양식품 꽃보다오징어 260g, 가격: 14,320, 구매량:9,494개,\n",
      "제품명: 스파클 생수 2L 24펫 / 500ml 60펫, 가격: 9,720, 구매량:1,882개,\n",
      "제품명: 하림 모짜렐라 치즈볼 1팩 등 하림 인기치킨 모음, 가격: 2,900, 구매량:11,927개,\n",
      "제품명: ★10%쿠폰★ 웰루츠 미니 붕어빵 500g 단팥/카스타드크림/치즈..., 가격: 7,500, 구매량:2,727개,\n",
      "제품명: 품절대란 야식창고 18cm 롱밀떡볶이 5가지맛, 가격: 1,900, 구매량:266,088개,\n",
      "제품명: 장보남 고급 애플망고 선물세트 4kg 중과 (10-12과), 가격: 28,730, 구매량:631개,\n"
     ]
    }
   ],
   "source": [
    "from selenium import webdriver\n",
    "from selenium.webdriver.common.keys import Keys\n",
    "driver = webdriver.Chrome(r'chromedriver.exe')\n",
    "\n",
    "for i in range(1, 7):\n",
    "    driver.get(\"https://front.wemakeprice.com/best/15\")\n",
    "\n",
    "    subject_tag = f\"#_contents > div > div > div.box_listwrap > div > div:nth-child({i}) > a > div > div.item_cont > div.option_txt > p\"\n",
    "    price_tag = f\"#_contents > div > div > div.box_listwrap > div > div:nth-child({i}) > a > div > div.item_cont > div.option_txt > div > div.price_info > strong > em\"\n",
    "    subject = driver.find_element_by_css_selector(subject_tag).text\n",
    "    price = driver.find_element_by_css_selector(price_tag).text\n",
    "    \n",
    "    link_tag = f\"#_contents > div > div > div.box_listwrap > div > div:nth-child({i}) > a\"\n",
    "    link = driver.find_element_by_css_selector(link_tag)\n",
    "    move_link = link.get_attribute('href')\n",
    "    \n",
    "    driver.get(move_link)\n",
    "    \n",
    "    amount_tag = \"#_infoDescription > div:nth-child(3) > div.box_inputarea > span > strong\"\n",
    "    amount = driver.find_element_by_css_selector(amount_tag).text\n",
    "    print(f\"제품명: {subject}, 가격: {price}, 구매량:{amount},\") \n",
    "    driver.execute_script(f\"window.scrollTo(0, 4000)\")\n",
    "\n",
    "    #company_name_tag = \"#_cancelrefundInfo > div:nth-child(6) > table > tbody > tr:nth-child(1) > td > span\"\n",
    "    #company_name = driver.find_element_by_css_selector(company_name_tag)\n",
    "    \n",
    "    #print(f\"제품명 {subject.text}, 가격: {price.text}, 구매량:{amount.text},\") \n",
    "\n",
    "    "
   ]
  },
  {
   "cell_type": "code",
   "execution_count": null,
   "metadata": {},
   "outputs": [],
   "source": []
  }
 ],
 "metadata": {
  "kernelspec": {
   "display_name": "Python 3",
   "language": "python",
   "name": "python3"
  },
  "language_info": {
   "codemirror_mode": {
    "name": "ipython",
    "version": 3
   },
   "file_extension": ".py",
   "mimetype": "text/x-python",
   "name": "python",
   "nbconvert_exporter": "python",
   "pygments_lexer": "ipython3",
   "version": "3.8.3"
  }
 },
 "nbformat": 4,
 "nbformat_minor": 4
}
