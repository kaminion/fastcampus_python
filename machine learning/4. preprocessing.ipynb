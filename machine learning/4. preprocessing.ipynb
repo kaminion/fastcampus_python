{
 "cells": [
  {
   "cell_type": "markdown",
   "metadata": {},
   "source": [
    "### 전처리(pre-processing)\n",
    "\n",
    "- 왜 필요한가?\n",
    "- 데이터 분석에 적합하게\n",
    "- 데이터를 가공 / 변형 / 처리 / 클리닝\n",
    "\n",
    "- garbage in, garbage out\n",
    "\n",
    "머신러닝 모델에 데이터 넣기 전에 처리하는 행위라 전처리임.\n",
    "(분석가의 80% 시간을 데이터 수집 및 전처리에 사용한다고 함)\n",
    "\n",
    "- 결측치 \n",
    "    - Imputer, 방법론 적 측면, 빠진 값이 무엇인지\n",
    "- 이상치 \n",
    "    - 데이터의 이상치를 어떻게 처리할 것인지.\n",
    "\n",
    "- 정규화(Normalization)\n",
    "    - 0~1 사이의 분포로 조정\n",
    "    - 다른 스케일의 값들을 동일한 스케일로 만들어줌\n",
    "    - 수치 데이터의 넓은 분포를 좁게 만들어줌\n",
    "    \n",
    "- 표준화(Standardization)\n",
    "    - 데이터의 평균을 0, 표준편차를 1로 맞춤\n",
    "    \n",
    "- 샘플링(over/under sampling) - 지나치게 많은 샘플을 감소 등...\n",
    "- 피처 공학(Feature Engineering)\n",
    "    - feature 생성/연산\n",
    "    - 구간 생성, 스케일 변형\n",
    "    - 데이터 프레임의 column들 끼리 연산 등..\n",
    "    - column들을 통해 새로운 column 생성..\n",
    "    - scale 변형"
   ]
  },
  {
   "cell_type": "code",
   "execution_count": null,
   "metadata": {},
   "outputs": [],
   "source": []
  },
  {
   "cell_type": "code",
   "execution_count": null,
   "metadata": {},
   "outputs": [],
   "source": []
  },
  {
   "cell_type": "code",
   "execution_count": null,
   "metadata": {},
   "outputs": [],
   "source": []
  },
  {
   "cell_type": "code",
   "execution_count": null,
   "metadata": {},
   "outputs": [],
   "source": []
  },
  {
   "cell_type": "code",
   "execution_count": null,
   "metadata": {},
   "outputs": [],
   "source": []
  },
  {
   "cell_type": "code",
   "execution_count": null,
   "metadata": {},
   "outputs": [],
   "source": []
  }
 ],
 "metadata": {
  "kernelspec": {
   "display_name": "Python 3",
   "language": "python",
   "name": "python3"
  },
  "language_info": {
   "codemirror_mode": {
    "name": "ipython",
    "version": 3
   },
   "file_extension": ".py",
   "mimetype": "text/x-python",
   "name": "python",
   "nbconvert_exporter": "python",
   "pygments_lexer": "ipython3",
   "version": "3.8.3"
  }
 },
 "nbformat": 4,
 "nbformat_minor": 4
}
