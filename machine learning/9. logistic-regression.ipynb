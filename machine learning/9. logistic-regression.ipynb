{
 "metadata": {
  "language_info": {
   "codemirror_mode": {
    "name": "ipython",
    "version": 3
   },
   "file_extension": ".py",
   "mimetype": "text/x-python",
   "name": "python",
   "nbconvert_exporter": "python",
   "pygments_lexer": "ipython3",
   "version": "3.8.3-final"
  },
  "orig_nbformat": 2,
  "kernelspec": {
   "name": "python3",
   "display_name": "Python 3",
   "language": "python"
  }
 },
 "nbformat": 4,
 "nbformat_minor": 2,
 "cells": [
  {
   "source": [
    "# Logistic Regression\n",
    "- 로지스틱 회귀는 영국 통계학자인 D.R. Cox가 1958년에 제안한 확률 모델\n",
    "\n",
    "- 독립 변수의 선형 결합을 이용하여 사건의 발생 가능성을 예측하는데 사용되는 통계 기법\n",
    "(선형 관계에서 분류를 적용했다.)\n",
    "\n",
    "Logistic Regression, 서포트 벡터 머신(SVM)과 같은 알고리즘은 \n",
    "이진 분류만 가능하다(2개의 클래스, classification만 가능)\n",
    "\n",
    "\n",
    "3개 이상 클래스에 대한 판별은 다음과 같은 전략으로 판별함\n",
    "\n",
    "** one-vs-rest (OvR) **: K개의 클래스가 존재할 때, 1개의 클래스를 제외한 다른 클래스를 K개 만들어, 각각의 이진 분류에 대한 확률을 구하고 총합을 통해 최종 클래스를 판별 \n",
    "\n",
    "(\n",
    "e.g. 0, 1, 2클래스가 존재한다고 가정 했을 때,\n",
    "0번클래스를 만들고, 나머지 1 2번 묶음\n",
    "1번 클래스랑 나머지 0번 2번을 묶는다\n",
    "2번 클래스랑 나머지 0번 1번을 묶는다.\n",
    "\n",
    "1개를 집고 다른 클래스를 묶어서 각각에 대한 이진 분류에 대한 확률을 구한다. 총합을 구해 투표->최종클래스\n",
    ")\n",
    "\n",
    "\n",
    "** one-vs-one (OvO) **: 4개의 계절을 구분하는 클래스가 존재한다고 가정했을 때, 0vs1, 0vs,2 0vs3, ... 2vs3까지 \n",
    "NX(N-1)/2개의 분류기를 만들어 가장 많이 양성으로 선택된 클래스를 판별\n",
    "\n",
    "이 경우 클래스가 많아지면 속도가 오래걸려서 비선호\n",
    "\n",
    "\n",
    "대부분 ** OvsR 전략을 선호 ** 한다.\n"
   ],
   "cell_type": "markdown",
   "metadata": {}
  },
  {
   "cell_type": "code",
   "execution_count": 64,
   "metadata": {},
   "outputs": [],
   "source": [
    "from sklearn.datasets import load_iris\n",
    "from sklearn.model_selection import train_test_split\n",
    "import pandas as pd\n",
    "import seaborn as sns\n",
    "\n",
    "# iris 데이터셋을 로드합니다.\n",
    "iris = load_iris()\n",
    "\n",
    "data = iris['data'] # feature가 4개인 데이터\n",
    "feature_names = iris['feature_names']\n",
    "df_iris = pd.DataFrame(data, columns=feature_names)\n",
    "df_iris['target'] = iris['target']"
   ]
  },
  {
   "cell_type": "code",
   "execution_count": 65,
   "metadata": {},
   "outputs": [],
   "source": [
    "x_train, x_valid, y_train, y_valid = train_test_split(df_iris.drop('target', 1), df_iris['target'], stratify=df_iris['target'])"
   ]
  },
  {
   "cell_type": "code",
   "execution_count": 1,
   "metadata": {},
   "outputs": [],
   "source": [
    "from sklearn.linear_model import LogisticRegression"
   ]
  },
  {
   "source": [
    "# step1 : 모델 선언"
   ],
   "cell_type": "markdown",
   "metadata": {}
  },
  {
   "source": [
    "lr = LogisticRegression()"
   ],
   "cell_type": "code",
   "metadata": {},
   "execution_count": 10,
   "outputs": []
  },
  {
   "source": [
    "# step 2: 모델 학습"
   ],
   "cell_type": "markdown",
   "metadata": {}
  },
  {
   "cell_type": "code",
   "execution_count": 66,
   "metadata": {},
   "outputs": [
    {
     "output_type": "execute_result",
     "data": {
      "text/plain": [
       "LogisticRegression()"
      ]
     },
     "metadata": {},
     "execution_count": 66
    }
   ],
   "source": [
    "lr.fit(x_train, y_train) # x, y 학습 데이터를 학습"
   ]
  },
  {
   "source": [
    "# step 3: 예측"
   ],
   "cell_type": "markdown",
   "metadata": {}
  },
  {
   "cell_type": "code",
   "execution_count": 67,
   "metadata": {},
   "outputs": [],
   "source": [
    "lr_pred = lr.predict(x_valid) # 한번도 학습하지 않은 데이터로 예측"
   ]
  },
  {
   "cell_type": "code",
   "execution_count": 71,
   "metadata": {},
   "outputs": [
    {
     "output_type": "execute_result",
     "data": {
      "text/plain": [
       "1.0"
      ]
     },
     "metadata": {},
     "execution_count": 71
    }
   ],
   "source": [
    "# 각 column 별 값을 비교하여 보여줌\n",
    "# (lr_pred == y_valid)\n",
    "# 예측값과 검증값이 같은 것에 대한 평균값(정답률)\n",
    "(lr_pred == y_valid).mean() "
   ]
  },
  {
   "cell_type": "code",
   "execution_count": null,
   "metadata": {},
   "outputs": [],
   "source": []
  },
  {
   "cell_type": "code",
   "execution_count": null,
   "metadata": {},
   "outputs": [],
   "source": []
  },
  {
   "cell_type": "code",
   "execution_count": null,
   "metadata": {},
   "outputs": [],
   "source": []
  },
  {
   "cell_type": "code",
   "execution_count": null,
   "metadata": {},
   "outputs": [],
   "source": []
  },
  {
   "cell_type": "code",
   "execution_count": null,
   "metadata": {},
   "outputs": [],
   "source": []
  },
  {
   "cell_type": "code",
   "execution_count": null,
   "metadata": {},
   "outputs": [],
   "source": []
  },
  {
   "cell_type": "code",
   "execution_count": null,
   "metadata": {},
   "outputs": [],
   "source": []
  },
  {
   "cell_type": "code",
   "execution_count": null,
   "metadata": {},
   "outputs": [],
   "source": []
  },
  {
   "cell_type": "code",
   "execution_count": null,
   "metadata": {},
   "outputs": [],
   "source": []
  },
  {
   "cell_type": "code",
   "execution_count": null,
   "metadata": {},
   "outputs": [],
   "source": []
  }
 ]
}