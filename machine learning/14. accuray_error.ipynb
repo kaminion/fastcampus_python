{
 "metadata": {
  "language_info": {
   "codemirror_mode": {
    "name": "ipython",
    "version": 3
   },
   "file_extension": ".py",
   "mimetype": "text/x-python",
   "name": "python",
   "nbconvert_exporter": "python",
   "pygments_lexer": "ipython3",
   "version": "3.8.3-final"
  },
  "orig_nbformat": 2,
  "kernelspec": {
   "name": "python3",
   "display_name": "Python 3",
   "language": "python"
  }
 },
 "nbformat": 4,
 "nbformat_minor": 2,
 "cells": [
  {
   "source": [
    "# 오차 (Error)\n",
    "- 정확도의 함정"
   ],
   "cell_type": "markdown",
   "metadata": {}
  },
  {
   "cell_type": "code",
   "execution_count": 27,
   "metadata": {},
   "outputs": [],
   "source": [
    "from sklearn.datasets import load_breast_cancer\n",
    "from sklearn.model_selection import train_test_split\n",
    "\n",
    "import pandas as pd\n",
    "import numpy as np"
   ]
  },
  {
   "cell_type": "code",
   "execution_count": 28,
   "metadata": {},
   "outputs": [],
   "source": [
    "cancer = load_breast_cancer()\n",
    "# 위스콘신 주의 유방암 환자 데이터 셋\n",
    "# 악성종양? 양성종양 여부\n",
    "# target: 0: 악성종양, 1: 양성종양\n",
    "# - WDBC-Malignant\n",
    "# - WDBC-Benign"
   ]
  },
  {
   "cell_type": "code",
   "execution_count": 29,
   "metadata": {},
   "outputs": [
    {
     "output_type": "stream",
     "name": "stdout",
     "text": [
      ".. _breast_cancer_dataset:\n\nBreast cancer wisconsin (diagnostic) dataset\n--------------------------------------------\n\n**Data Set Characteristics:**\n\n    :Number of Instances: 569\n\n    :Number of Attributes: 30 numeric, predictive attributes and the class\n\n    :Attribute Information:\n        - radius (mean of distances from center to points on the perimeter)\n        - texture (standard deviation of gray-scale values)\n        - perimeter\n        - area\n        - smoothness (local variation in radius lengths)\n        - compactness (perimeter^2 / area - 1.0)\n        - concavity (severity of concave portions of the contour)\n        - concave points (number of concave portions of the contour)\n        - symmetry\n        - fractal dimension (\"coastline approximation\" - 1)\n\n        The mean, standard error, and \"worst\" or largest (mean of the three\n        worst/largest values) of these features were computed for each image,\n        resulting in 30 features.  For instance, field 0 is Mean Radius, field\n        10 is Radius SE, field 20 is Worst Radius.\n\n        - class:\n                - WDBC-Malignant\n                - WDBC-Benign\n\n    :Summary Statistics:\n\n    ===================================== ====== ======\n                                           Min    Max\n    ===================================== ====== ======\n    radius (mean):                        6.981  28.11\n    texture (mean):                       9.71   39.28\n    perimeter (mean):                     43.79  188.5\n    area (mean):                          143.5  2501.0\n    smoothness (mean):                    0.053  0.163\n    compactness (mean):                   0.019  0.345\n    concavity (mean):                     0.0    0.427\n    concave points (mean):                0.0    0.201\n    symmetry (mean):                      0.106  0.304\n    fractal dimension (mean):             0.05   0.097\n    radius (standard error):              0.112  2.873\n    texture (standard error):             0.36   4.885\n    perimeter (standard error):           0.757  21.98\n    area (standard error):                6.802  542.2\n    smoothness (standard error):          0.002  0.031\n    compactness (standard error):         0.002  0.135\n    concavity (standard error):           0.0    0.396\n    concave points (standard error):      0.0    0.053\n    symmetry (standard error):            0.008  0.079\n    fractal dimension (standard error):   0.001  0.03\n    radius (worst):                       7.93   36.04\n    texture (worst):                      12.02  49.54\n    perimeter (worst):                    50.41  251.2\n    area (worst):                         185.2  4254.0\n    smoothness (worst):                   0.071  0.223\n    compactness (worst):                  0.027  1.058\n    concavity (worst):                    0.0    1.252\n    concave points (worst):               0.0    0.291\n    symmetry (worst):                     0.156  0.664\n    fractal dimension (worst):            0.055  0.208\n    ===================================== ====== ======\n\n    :Missing Attribute Values: None\n\n    :Class Distribution: 212 - Malignant, 357 - Benign\n\n    :Creator:  Dr. William H. Wolberg, W. Nick Street, Olvi L. Mangasarian\n\n    :Donor: Nick Street\n\n    :Date: November, 1995\n\nThis is a copy of UCI ML Breast Cancer Wisconsin (Diagnostic) datasets.\nhttps://goo.gl/U2Uwz2\n\nFeatures are computed from a digitized image of a fine needle\naspirate (FNA) of a breast mass.  They describe\ncharacteristics of the cell nuclei present in the image.\n\nSeparating plane described above was obtained using\nMultisurface Method-Tree (MSM-T) [K. P. Bennett, \"Decision Tree\nConstruction Via Linear Programming.\" Proceedings of the 4th\nMidwest Artificial Intelligence and Cognitive Science Society,\npp. 97-101, 1992], a classification method which uses linear\nprogramming to construct a decision tree.  Relevant features\nwere selected using an exhaustive search in the space of 1-4\nfeatures and 1-3 separating planes.\n\nThe actual linear program used to obtain the separating plane\nin the 3-dimensional space is that described in:\n[K. P. Bennett and O. L. Mangasarian: \"Robust Linear\nProgramming Discrimination of Two Linearly Inseparable Sets\",\nOptimization Methods and Software 1, 1992, 23-34].\n\nThis database is also available through the UW CS ftp server:\n\nftp ftp.cs.wisc.edu\ncd math-prog/cpo-dataset/machine-learn/WDBC/\n\n.. topic:: References\n\n   - W.N. Street, W.H. Wolberg and O.L. Mangasarian. Nuclear feature extraction \n     for breast tumor diagnosis. IS&T/SPIE 1993 International Symposium on \n     Electronic Imaging: Science and Technology, volume 1905, pages 861-870,\n     San Jose, CA, 1993.\n   - O.L. Mangasarian, W.N. Street and W.H. Wolberg. Breast cancer diagnosis and \n     prognosis via linear programming. Operations Research, 43(4), pages 570-577, \n     July-August 1995.\n   - W.H. Wolberg, W.N. Street, and O.L. Mangasarian. Machine learning techniques\n     to diagnose breast cancer from fine-needle aspirates. Cancer Letters 77 (1994) \n     163-171.\n"
     ]
    }
   ],
   "source": [
    "print(cancer['DESCR'])"
   ]
  },
  {
   "cell_type": "code",
   "execution_count": 30,
   "metadata": {},
   "outputs": [],
   "source": [
    "data = cancer['data']\n",
    "target = cancer['target']\n",
    "feature_names = cancer['feature_names']"
   ]
  },
  {
   "cell_type": "code",
   "execution_count": 31,
   "metadata": {},
   "outputs": [],
   "source": [
    "df = pd.DataFrame(data=data, columns=feature_names)"
   ]
  },
  {
   "cell_type": "code",
   "execution_count": 34,
   "metadata": {},
   "outputs": [],
   "source": [
    "df['target'] = cancer['target']"
   ]
  },
  {
   "cell_type": "code",
   "execution_count": 35,
   "metadata": {},
   "outputs": [
    {
     "output_type": "execute_result",
     "data": {
      "text/plain": [
       "   mean radius  mean texture  mean perimeter  mean area  mean smoothness  \\\n",
       "0        17.99         10.38          122.80     1001.0          0.11840   \n",
       "1        20.57         17.77          132.90     1326.0          0.08474   \n",
       "2        19.69         21.25          130.00     1203.0          0.10960   \n",
       "3        11.42         20.38           77.58      386.1          0.14250   \n",
       "4        20.29         14.34          135.10     1297.0          0.10030   \n",
       "\n",
       "   mean compactness  mean concavity  mean concave points  mean symmetry  \\\n",
       "0           0.27760          0.3001              0.14710         0.2419   \n",
       "1           0.07864          0.0869              0.07017         0.1812   \n",
       "2           0.15990          0.1974              0.12790         0.2069   \n",
       "3           0.28390          0.2414              0.10520         0.2597   \n",
       "4           0.13280          0.1980              0.10430         0.1809   \n",
       "\n",
       "   mean fractal dimension  ...  worst texture  worst perimeter  worst area  \\\n",
       "0                 0.07871  ...          17.33           184.60      2019.0   \n",
       "1                 0.05667  ...          23.41           158.80      1956.0   \n",
       "2                 0.05999  ...          25.53           152.50      1709.0   \n",
       "3                 0.09744  ...          26.50            98.87       567.7   \n",
       "4                 0.05883  ...          16.67           152.20      1575.0   \n",
       "\n",
       "   worst smoothness  worst compactness  worst concavity  worst concave points  \\\n",
       "0            0.1622             0.6656           0.7119                0.2654   \n",
       "1            0.1238             0.1866           0.2416                0.1860   \n",
       "2            0.1444             0.4245           0.4504                0.2430   \n",
       "3            0.2098             0.8663           0.6869                0.2575   \n",
       "4            0.1374             0.2050           0.4000                0.1625   \n",
       "\n",
       "   worst symmetry  worst fractal dimension  target  \n",
       "0          0.4601                  0.11890       0  \n",
       "1          0.2750                  0.08902       0  \n",
       "2          0.3613                  0.08758       0  \n",
       "3          0.6638                  0.17300       0  \n",
       "4          0.2364                  0.07678       0  \n",
       "\n",
       "[5 rows x 31 columns]"
      ],
      "text/html": "<div>\n<style scoped>\n    .dataframe tbody tr th:only-of-type {\n        vertical-align: middle;\n    }\n\n    .dataframe tbody tr th {\n        vertical-align: top;\n    }\n\n    .dataframe thead th {\n        text-align: right;\n    }\n</style>\n<table border=\"1\" class=\"dataframe\">\n  <thead>\n    <tr style=\"text-align: right;\">\n      <th></th>\n      <th>mean radius</th>\n      <th>mean texture</th>\n      <th>mean perimeter</th>\n      <th>mean area</th>\n      <th>mean smoothness</th>\n      <th>mean compactness</th>\n      <th>mean concavity</th>\n      <th>mean concave points</th>\n      <th>mean symmetry</th>\n      <th>mean fractal dimension</th>\n      <th>...</th>\n      <th>worst texture</th>\n      <th>worst perimeter</th>\n      <th>worst area</th>\n      <th>worst smoothness</th>\n      <th>worst compactness</th>\n      <th>worst concavity</th>\n      <th>worst concave points</th>\n      <th>worst symmetry</th>\n      <th>worst fractal dimension</th>\n      <th>target</th>\n    </tr>\n  </thead>\n  <tbody>\n    <tr>\n      <th>0</th>\n      <td>17.99</td>\n      <td>10.38</td>\n      <td>122.80</td>\n      <td>1001.0</td>\n      <td>0.11840</td>\n      <td>0.27760</td>\n      <td>0.3001</td>\n      <td>0.14710</td>\n      <td>0.2419</td>\n      <td>0.07871</td>\n      <td>...</td>\n      <td>17.33</td>\n      <td>184.60</td>\n      <td>2019.0</td>\n      <td>0.1622</td>\n      <td>0.6656</td>\n      <td>0.7119</td>\n      <td>0.2654</td>\n      <td>0.4601</td>\n      <td>0.11890</td>\n      <td>0</td>\n    </tr>\n    <tr>\n      <th>1</th>\n      <td>20.57</td>\n      <td>17.77</td>\n      <td>132.90</td>\n      <td>1326.0</td>\n      <td>0.08474</td>\n      <td>0.07864</td>\n      <td>0.0869</td>\n      <td>0.07017</td>\n      <td>0.1812</td>\n      <td>0.05667</td>\n      <td>...</td>\n      <td>23.41</td>\n      <td>158.80</td>\n      <td>1956.0</td>\n      <td>0.1238</td>\n      <td>0.1866</td>\n      <td>0.2416</td>\n      <td>0.1860</td>\n      <td>0.2750</td>\n      <td>0.08902</td>\n      <td>0</td>\n    </tr>\n    <tr>\n      <th>2</th>\n      <td>19.69</td>\n      <td>21.25</td>\n      <td>130.00</td>\n      <td>1203.0</td>\n      <td>0.10960</td>\n      <td>0.15990</td>\n      <td>0.1974</td>\n      <td>0.12790</td>\n      <td>0.2069</td>\n      <td>0.05999</td>\n      <td>...</td>\n      <td>25.53</td>\n      <td>152.50</td>\n      <td>1709.0</td>\n      <td>0.1444</td>\n      <td>0.4245</td>\n      <td>0.4504</td>\n      <td>0.2430</td>\n      <td>0.3613</td>\n      <td>0.08758</td>\n      <td>0</td>\n    </tr>\n    <tr>\n      <th>3</th>\n      <td>11.42</td>\n      <td>20.38</td>\n      <td>77.58</td>\n      <td>386.1</td>\n      <td>0.14250</td>\n      <td>0.28390</td>\n      <td>0.2414</td>\n      <td>0.10520</td>\n      <td>0.2597</td>\n      <td>0.09744</td>\n      <td>...</td>\n      <td>26.50</td>\n      <td>98.87</td>\n      <td>567.7</td>\n      <td>0.2098</td>\n      <td>0.8663</td>\n      <td>0.6869</td>\n      <td>0.2575</td>\n      <td>0.6638</td>\n      <td>0.17300</td>\n      <td>0</td>\n    </tr>\n    <tr>\n      <th>4</th>\n      <td>20.29</td>\n      <td>14.34</td>\n      <td>135.10</td>\n      <td>1297.0</td>\n      <td>0.10030</td>\n      <td>0.13280</td>\n      <td>0.1980</td>\n      <td>0.10430</td>\n      <td>0.1809</td>\n      <td>0.05883</td>\n      <td>...</td>\n      <td>16.67</td>\n      <td>152.20</td>\n      <td>1575.0</td>\n      <td>0.1374</td>\n      <td>0.2050</td>\n      <td>0.4000</td>\n      <td>0.1625</td>\n      <td>0.2364</td>\n      <td>0.07678</td>\n      <td>0</td>\n    </tr>\n  </tbody>\n</table>\n<p>5 rows × 31 columns</p>\n</div>"
     },
     "metadata": {},
     "execution_count": 35
    }
   ],
   "source": [
    "df.head()"
   ]
  },
  {
   "cell_type": "code",
   "execution_count": 36,
   "metadata": {},
   "outputs": [],
   "source": [
    "pos = df.loc[df['target'] == 1]\n",
    "neg = df.loc[df['target'] == 0]"
   ]
  },
  {
   "cell_type": "code",
   "execution_count": 40,
   "metadata": {},
   "outputs": [
    {
     "output_type": "execute_result",
     "data": {
      "text/plain": [
       "     mean radius  mean texture  mean perimeter  mean area  mean smoothness  \\\n",
       "19        13.540         14.36           87.46      566.3          0.09779   \n",
       "20        13.080         15.71           85.63      520.0          0.10750   \n",
       "21         9.504         12.44           60.34      273.9          0.10240   \n",
       "37        13.030         18.42           82.61      523.8          0.08983   \n",
       "46         8.196         16.84           51.71      201.9          0.08600   \n",
       "..           ...           ...             ...        ...              ...   \n",
       "558       14.590         22.68           96.39      657.1          0.08473   \n",
       "559       11.510         23.93           74.52      403.5          0.09261   \n",
       "560       14.050         27.15           91.38      600.4          0.09929   \n",
       "561       11.200         29.37           70.67      386.0          0.07449   \n",
       "568        7.760         24.54           47.92      181.0          0.05263   \n",
       "\n",
       "     mean compactness  mean concavity  mean concave points  mean symmetry  \\\n",
       "19            0.08129         0.06664             0.047810         0.1885   \n",
       "20            0.12700         0.04568             0.031100         0.1967   \n",
       "21            0.06492         0.02956             0.020760         0.1815   \n",
       "37            0.03766         0.02562             0.029230         0.1467   \n",
       "46            0.05943         0.01588             0.005917         0.1769   \n",
       "..                ...             ...                  ...            ...   \n",
       "558           0.13300         0.10290             0.037360         0.1454   \n",
       "559           0.10210         0.11120             0.041050         0.1388   \n",
       "560           0.11260         0.04462             0.043040         0.1537   \n",
       "561           0.03558         0.00000             0.000000         0.1060   \n",
       "568           0.04362         0.00000             0.000000         0.1587   \n",
       "\n",
       "     mean fractal dimension  ...  worst texture  worst perimeter  worst area  \\\n",
       "19                  0.05766  ...          19.26            99.70       711.2   \n",
       "20                  0.06811  ...          20.49            96.09       630.5   \n",
       "21                  0.06905  ...          15.66            65.13       314.9   \n",
       "37                  0.05863  ...          22.81            84.46       545.9   \n",
       "46                  0.06503  ...          21.96            57.26       242.2   \n",
       "..                      ...  ...            ...              ...         ...   \n",
       "558                 0.06147  ...          27.27           105.90       733.5   \n",
       "559                 0.06570  ...          37.16            82.28       474.2   \n",
       "560                 0.06171  ...          33.17           100.20       706.7   \n",
       "561                 0.05502  ...          38.30            75.19       439.6   \n",
       "568                 0.05884  ...          30.37            59.16       268.6   \n",
       "\n",
       "     worst smoothness  worst compactness  worst concavity  \\\n",
       "19            0.14400            0.17730          0.23900   \n",
       "20            0.13120            0.27760          0.18900   \n",
       "21            0.13240            0.11480          0.08867   \n",
       "37            0.09701            0.04619          0.04833   \n",
       "46            0.12970            0.13570          0.06880   \n",
       "..                ...                ...              ...   \n",
       "558           0.10260            0.31710          0.36620   \n",
       "559           0.12980            0.25170          0.36300   \n",
       "560           0.12410            0.22640          0.13260   \n",
       "561           0.09267            0.05494          0.00000   \n",
       "568           0.08996            0.06444          0.00000   \n",
       "\n",
       "     worst concave points  worst symmetry  worst fractal dimension  target  \n",
       "19                0.12880          0.2977                  0.07259       1  \n",
       "20                0.07283          0.3184                  0.08183       1  \n",
       "21                0.06227          0.2450                  0.07773       1  \n",
       "37                0.05013          0.1987                  0.06169       1  \n",
       "46                0.02564          0.3105                  0.07409       1  \n",
       "..                    ...             ...                      ...     ...  \n",
       "558               0.11050          0.2258                  0.08004       1  \n",
       "559               0.09653          0.2112                  0.08732       1  \n",
       "560               0.10480          0.2250                  0.08321       1  \n",
       "561               0.00000          0.1566                  0.05905       1  \n",
       "568               0.00000          0.2871                  0.07039       1  \n",
       "\n",
       "[357 rows x 31 columns]"
      ],
      "text/html": "<div>\n<style scoped>\n    .dataframe tbody tr th:only-of-type {\n        vertical-align: middle;\n    }\n\n    .dataframe tbody tr th {\n        vertical-align: top;\n    }\n\n    .dataframe thead th {\n        text-align: right;\n    }\n</style>\n<table border=\"1\" class=\"dataframe\">\n  <thead>\n    <tr style=\"text-align: right;\">\n      <th></th>\n      <th>mean radius</th>\n      <th>mean texture</th>\n      <th>mean perimeter</th>\n      <th>mean area</th>\n      <th>mean smoothness</th>\n      <th>mean compactness</th>\n      <th>mean concavity</th>\n      <th>mean concave points</th>\n      <th>mean symmetry</th>\n      <th>mean fractal dimension</th>\n      <th>...</th>\n      <th>worst texture</th>\n      <th>worst perimeter</th>\n      <th>worst area</th>\n      <th>worst smoothness</th>\n      <th>worst compactness</th>\n      <th>worst concavity</th>\n      <th>worst concave points</th>\n      <th>worst symmetry</th>\n      <th>worst fractal dimension</th>\n      <th>target</th>\n    </tr>\n  </thead>\n  <tbody>\n    <tr>\n      <th>19</th>\n      <td>13.540</td>\n      <td>14.36</td>\n      <td>87.46</td>\n      <td>566.3</td>\n      <td>0.09779</td>\n      <td>0.08129</td>\n      <td>0.06664</td>\n      <td>0.047810</td>\n      <td>0.1885</td>\n      <td>0.05766</td>\n      <td>...</td>\n      <td>19.26</td>\n      <td>99.70</td>\n      <td>711.2</td>\n      <td>0.14400</td>\n      <td>0.17730</td>\n      <td>0.23900</td>\n      <td>0.12880</td>\n      <td>0.2977</td>\n      <td>0.07259</td>\n      <td>1</td>\n    </tr>\n    <tr>\n      <th>20</th>\n      <td>13.080</td>\n      <td>15.71</td>\n      <td>85.63</td>\n      <td>520.0</td>\n      <td>0.10750</td>\n      <td>0.12700</td>\n      <td>0.04568</td>\n      <td>0.031100</td>\n      <td>0.1967</td>\n      <td>0.06811</td>\n      <td>...</td>\n      <td>20.49</td>\n      <td>96.09</td>\n      <td>630.5</td>\n      <td>0.13120</td>\n      <td>0.27760</td>\n      <td>0.18900</td>\n      <td>0.07283</td>\n      <td>0.3184</td>\n      <td>0.08183</td>\n      <td>1</td>\n    </tr>\n    <tr>\n      <th>21</th>\n      <td>9.504</td>\n      <td>12.44</td>\n      <td>60.34</td>\n      <td>273.9</td>\n      <td>0.10240</td>\n      <td>0.06492</td>\n      <td>0.02956</td>\n      <td>0.020760</td>\n      <td>0.1815</td>\n      <td>0.06905</td>\n      <td>...</td>\n      <td>15.66</td>\n      <td>65.13</td>\n      <td>314.9</td>\n      <td>0.13240</td>\n      <td>0.11480</td>\n      <td>0.08867</td>\n      <td>0.06227</td>\n      <td>0.2450</td>\n      <td>0.07773</td>\n      <td>1</td>\n    </tr>\n    <tr>\n      <th>37</th>\n      <td>13.030</td>\n      <td>18.42</td>\n      <td>82.61</td>\n      <td>523.8</td>\n      <td>0.08983</td>\n      <td>0.03766</td>\n      <td>0.02562</td>\n      <td>0.029230</td>\n      <td>0.1467</td>\n      <td>0.05863</td>\n      <td>...</td>\n      <td>22.81</td>\n      <td>84.46</td>\n      <td>545.9</td>\n      <td>0.09701</td>\n      <td>0.04619</td>\n      <td>0.04833</td>\n      <td>0.05013</td>\n      <td>0.1987</td>\n      <td>0.06169</td>\n      <td>1</td>\n    </tr>\n    <tr>\n      <th>46</th>\n      <td>8.196</td>\n      <td>16.84</td>\n      <td>51.71</td>\n      <td>201.9</td>\n      <td>0.08600</td>\n      <td>0.05943</td>\n      <td>0.01588</td>\n      <td>0.005917</td>\n      <td>0.1769</td>\n      <td>0.06503</td>\n      <td>...</td>\n      <td>21.96</td>\n      <td>57.26</td>\n      <td>242.2</td>\n      <td>0.12970</td>\n      <td>0.13570</td>\n      <td>0.06880</td>\n      <td>0.02564</td>\n      <td>0.3105</td>\n      <td>0.07409</td>\n      <td>1</td>\n    </tr>\n    <tr>\n      <th>...</th>\n      <td>...</td>\n      <td>...</td>\n      <td>...</td>\n      <td>...</td>\n      <td>...</td>\n      <td>...</td>\n      <td>...</td>\n      <td>...</td>\n      <td>...</td>\n      <td>...</td>\n      <td>...</td>\n      <td>...</td>\n      <td>...</td>\n      <td>...</td>\n      <td>...</td>\n      <td>...</td>\n      <td>...</td>\n      <td>...</td>\n      <td>...</td>\n      <td>...</td>\n      <td>...</td>\n    </tr>\n    <tr>\n      <th>558</th>\n      <td>14.590</td>\n      <td>22.68</td>\n      <td>96.39</td>\n      <td>657.1</td>\n      <td>0.08473</td>\n      <td>0.13300</td>\n      <td>0.10290</td>\n      <td>0.037360</td>\n      <td>0.1454</td>\n      <td>0.06147</td>\n      <td>...</td>\n      <td>27.27</td>\n      <td>105.90</td>\n      <td>733.5</td>\n      <td>0.10260</td>\n      <td>0.31710</td>\n      <td>0.36620</td>\n      <td>0.11050</td>\n      <td>0.2258</td>\n      <td>0.08004</td>\n      <td>1</td>\n    </tr>\n    <tr>\n      <th>559</th>\n      <td>11.510</td>\n      <td>23.93</td>\n      <td>74.52</td>\n      <td>403.5</td>\n      <td>0.09261</td>\n      <td>0.10210</td>\n      <td>0.11120</td>\n      <td>0.041050</td>\n      <td>0.1388</td>\n      <td>0.06570</td>\n      <td>...</td>\n      <td>37.16</td>\n      <td>82.28</td>\n      <td>474.2</td>\n      <td>0.12980</td>\n      <td>0.25170</td>\n      <td>0.36300</td>\n      <td>0.09653</td>\n      <td>0.2112</td>\n      <td>0.08732</td>\n      <td>1</td>\n    </tr>\n    <tr>\n      <th>560</th>\n      <td>14.050</td>\n      <td>27.15</td>\n      <td>91.38</td>\n      <td>600.4</td>\n      <td>0.09929</td>\n      <td>0.11260</td>\n      <td>0.04462</td>\n      <td>0.043040</td>\n      <td>0.1537</td>\n      <td>0.06171</td>\n      <td>...</td>\n      <td>33.17</td>\n      <td>100.20</td>\n      <td>706.7</td>\n      <td>0.12410</td>\n      <td>0.22640</td>\n      <td>0.13260</td>\n      <td>0.10480</td>\n      <td>0.2250</td>\n      <td>0.08321</td>\n      <td>1</td>\n    </tr>\n    <tr>\n      <th>561</th>\n      <td>11.200</td>\n      <td>29.37</td>\n      <td>70.67</td>\n      <td>386.0</td>\n      <td>0.07449</td>\n      <td>0.03558</td>\n      <td>0.00000</td>\n      <td>0.000000</td>\n      <td>0.1060</td>\n      <td>0.05502</td>\n      <td>...</td>\n      <td>38.30</td>\n      <td>75.19</td>\n      <td>439.6</td>\n      <td>0.09267</td>\n      <td>0.05494</td>\n      <td>0.00000</td>\n      <td>0.00000</td>\n      <td>0.1566</td>\n      <td>0.05905</td>\n      <td>1</td>\n    </tr>\n    <tr>\n      <th>568</th>\n      <td>7.760</td>\n      <td>24.54</td>\n      <td>47.92</td>\n      <td>181.0</td>\n      <td>0.05263</td>\n      <td>0.04362</td>\n      <td>0.00000</td>\n      <td>0.000000</td>\n      <td>0.1587</td>\n      <td>0.05884</td>\n      <td>...</td>\n      <td>30.37</td>\n      <td>59.16</td>\n      <td>268.6</td>\n      <td>0.08996</td>\n      <td>0.06444</td>\n      <td>0.00000</td>\n      <td>0.00000</td>\n      <td>0.2871</td>\n      <td>0.07039</td>\n      <td>1</td>\n    </tr>\n  </tbody>\n</table>\n<p>357 rows × 31 columns</p>\n</div>"
     },
     "metadata": {},
     "execution_count": 40
    }
   ],
   "source": [
    "# 양성환자 수\n",
    "pos \n"
   ]
  },
  {
   "cell_type": "code",
   "execution_count": 41,
   "metadata": {},
   "outputs": [
    {
     "output_type": "execute_result",
     "data": {
      "text/plain": [
       "    area error  compactness error  concave points error  concavity error  \\\n",
       "19      23.560           0.014600              0.013150          0.02387   \n",
       "20      14.670           0.018980              0.006490          0.01698   \n",
       "21      15.700           0.014320              0.014210          0.01985   \n",
       "37      14.160           0.004899              0.011640          0.01343   \n",
       "46       8.205           0.016460              0.005917          0.01588   \n",
       "..         ...                ...                   ...              ...   \n",
       "0      153.400           0.049040              0.015870          0.05373   \n",
       "1       74.080           0.013080              0.013400          0.01860   \n",
       "2       94.030           0.040060              0.020580          0.03832   \n",
       "3       27.230           0.074580              0.018670          0.05661   \n",
       "4       94.440           0.024610              0.018850          0.05688   \n",
       "\n",
       "    fractal dimension error  mean area  mean compactness  mean concave points  \\\n",
       "19                 0.002300      566.3           0.08129             0.047810   \n",
       "20                 0.002425      520.0           0.12700             0.031100   \n",
       "21                 0.002968      273.9           0.06492             0.020760   \n",
       "37                 0.001777      523.8           0.03766             0.029230   \n",
       "46                 0.002582      201.9           0.05943             0.005917   \n",
       "..                      ...        ...               ...                  ...   \n",
       "0                  0.006193     1001.0           0.27760             0.147100   \n",
       "1                  0.003532     1326.0           0.07864             0.070170   \n",
       "2                  0.004571     1203.0           0.15990             0.127900   \n",
       "3                  0.009208      386.1           0.28390             0.105200   \n",
       "4                  0.005115     1297.0           0.13280             0.104300   \n",
       "\n",
       "    mean concavity  mean fractal dimension  ...  worst area  \\\n",
       "19         0.06664                 0.05766  ...       711.2   \n",
       "20         0.04568                 0.06811  ...       630.5   \n",
       "21         0.02956                 0.06905  ...       314.9   \n",
       "37         0.02562                 0.05863  ...       545.9   \n",
       "46         0.01588                 0.06503  ...       242.2   \n",
       "..             ...                     ...  ...         ...   \n",
       "0          0.30010                 0.07871  ...      2019.0   \n",
       "1          0.08690                 0.05667  ...      1956.0   \n",
       "2          0.19740                 0.05999  ...      1709.0   \n",
       "3          0.24140                 0.09744  ...       567.7   \n",
       "4          0.19800                 0.05883  ...      1575.0   \n",
       "\n",
       "    worst compactness  worst concave points  worst concavity  \\\n",
       "19            0.17730               0.12880          0.23900   \n",
       "20            0.27760               0.07283          0.18900   \n",
       "21            0.11480               0.06227          0.08867   \n",
       "37            0.04619               0.05013          0.04833   \n",
       "46            0.13570               0.02564          0.06880   \n",
       "..                ...                   ...              ...   \n",
       "0             0.66560               0.26540          0.71190   \n",
       "1             0.18660               0.18600          0.24160   \n",
       "2             0.42450               0.24300          0.45040   \n",
       "3             0.86630               0.25750          0.68690   \n",
       "4             0.20500               0.16250          0.40000   \n",
       "\n",
       "    worst fractal dimension  worst perimeter  worst radius  worst smoothness  \\\n",
       "19                  0.07259            99.70        15.110           0.14400   \n",
       "20                  0.08183            96.09        14.500           0.13120   \n",
       "21                  0.07773            65.13        10.230           0.13240   \n",
       "37                  0.06169            84.46        13.300           0.09701   \n",
       "46                  0.07409            57.26         8.964           0.12970   \n",
       "..                      ...              ...           ...               ...   \n",
       "0                   0.11890           184.60        25.380           0.16220   \n",
       "1                   0.08902           158.80        24.990           0.12380   \n",
       "2                   0.08758           152.50        23.570           0.14440   \n",
       "3                   0.17300            98.87        14.910           0.20980   \n",
       "4                   0.07678           152.20        22.540           0.13740   \n",
       "\n",
       "    worst symmetry  worst texture  \n",
       "19          0.2977          19.26  \n",
       "20          0.3184          20.49  \n",
       "21          0.2450          15.66  \n",
       "37          0.1987          22.81  \n",
       "46          0.3105          21.96  \n",
       "..             ...            ...  \n",
       "0           0.4601          17.33  \n",
       "1           0.2750          23.41  \n",
       "2           0.3613          25.53  \n",
       "3           0.6638          26.50  \n",
       "4           0.2364          16.67  \n",
       "\n",
       "[362 rows x 31 columns]"
      ],
      "text/html": "<div>\n<style scoped>\n    .dataframe tbody tr th:only-of-type {\n        vertical-align: middle;\n    }\n\n    .dataframe tbody tr th {\n        vertical-align: top;\n    }\n\n    .dataframe thead th {\n        text-align: right;\n    }\n</style>\n<table border=\"1\" class=\"dataframe\">\n  <thead>\n    <tr style=\"text-align: right;\">\n      <th></th>\n      <th>area error</th>\n      <th>compactness error</th>\n      <th>concave points error</th>\n      <th>concavity error</th>\n      <th>fractal dimension error</th>\n      <th>mean area</th>\n      <th>mean compactness</th>\n      <th>mean concave points</th>\n      <th>mean concavity</th>\n      <th>mean fractal dimension</th>\n      <th>...</th>\n      <th>worst area</th>\n      <th>worst compactness</th>\n      <th>worst concave points</th>\n      <th>worst concavity</th>\n      <th>worst fractal dimension</th>\n      <th>worst perimeter</th>\n      <th>worst radius</th>\n      <th>worst smoothness</th>\n      <th>worst symmetry</th>\n      <th>worst texture</th>\n    </tr>\n  </thead>\n  <tbody>\n    <tr>\n      <th>19</th>\n      <td>23.560</td>\n      <td>0.014600</td>\n      <td>0.013150</td>\n      <td>0.02387</td>\n      <td>0.002300</td>\n      <td>566.3</td>\n      <td>0.08129</td>\n      <td>0.047810</td>\n      <td>0.06664</td>\n      <td>0.05766</td>\n      <td>...</td>\n      <td>711.2</td>\n      <td>0.17730</td>\n      <td>0.12880</td>\n      <td>0.23900</td>\n      <td>0.07259</td>\n      <td>99.70</td>\n      <td>15.110</td>\n      <td>0.14400</td>\n      <td>0.2977</td>\n      <td>19.26</td>\n    </tr>\n    <tr>\n      <th>20</th>\n      <td>14.670</td>\n      <td>0.018980</td>\n      <td>0.006490</td>\n      <td>0.01698</td>\n      <td>0.002425</td>\n      <td>520.0</td>\n      <td>0.12700</td>\n      <td>0.031100</td>\n      <td>0.04568</td>\n      <td>0.06811</td>\n      <td>...</td>\n      <td>630.5</td>\n      <td>0.27760</td>\n      <td>0.07283</td>\n      <td>0.18900</td>\n      <td>0.08183</td>\n      <td>96.09</td>\n      <td>14.500</td>\n      <td>0.13120</td>\n      <td>0.3184</td>\n      <td>20.49</td>\n    </tr>\n    <tr>\n      <th>21</th>\n      <td>15.700</td>\n      <td>0.014320</td>\n      <td>0.014210</td>\n      <td>0.01985</td>\n      <td>0.002968</td>\n      <td>273.9</td>\n      <td>0.06492</td>\n      <td>0.020760</td>\n      <td>0.02956</td>\n      <td>0.06905</td>\n      <td>...</td>\n      <td>314.9</td>\n      <td>0.11480</td>\n      <td>0.06227</td>\n      <td>0.08867</td>\n      <td>0.07773</td>\n      <td>65.13</td>\n      <td>10.230</td>\n      <td>0.13240</td>\n      <td>0.2450</td>\n      <td>15.66</td>\n    </tr>\n    <tr>\n      <th>37</th>\n      <td>14.160</td>\n      <td>0.004899</td>\n      <td>0.011640</td>\n      <td>0.01343</td>\n      <td>0.001777</td>\n      <td>523.8</td>\n      <td>0.03766</td>\n      <td>0.029230</td>\n      <td>0.02562</td>\n      <td>0.05863</td>\n      <td>...</td>\n      <td>545.9</td>\n      <td>0.04619</td>\n      <td>0.05013</td>\n      <td>0.04833</td>\n      <td>0.06169</td>\n      <td>84.46</td>\n      <td>13.300</td>\n      <td>0.09701</td>\n      <td>0.1987</td>\n      <td>22.81</td>\n    </tr>\n    <tr>\n      <th>46</th>\n      <td>8.205</td>\n      <td>0.016460</td>\n      <td>0.005917</td>\n      <td>0.01588</td>\n      <td>0.002582</td>\n      <td>201.9</td>\n      <td>0.05943</td>\n      <td>0.005917</td>\n      <td>0.01588</td>\n      <td>0.06503</td>\n      <td>...</td>\n      <td>242.2</td>\n      <td>0.13570</td>\n      <td>0.02564</td>\n      <td>0.06880</td>\n      <td>0.07409</td>\n      <td>57.26</td>\n      <td>8.964</td>\n      <td>0.12970</td>\n      <td>0.3105</td>\n      <td>21.96</td>\n    </tr>\n    <tr>\n      <th>...</th>\n      <td>...</td>\n      <td>...</td>\n      <td>...</td>\n      <td>...</td>\n      <td>...</td>\n      <td>...</td>\n      <td>...</td>\n      <td>...</td>\n      <td>...</td>\n      <td>...</td>\n      <td>...</td>\n      <td>...</td>\n      <td>...</td>\n      <td>...</td>\n      <td>...</td>\n      <td>...</td>\n      <td>...</td>\n      <td>...</td>\n      <td>...</td>\n      <td>...</td>\n      <td>...</td>\n    </tr>\n    <tr>\n      <th>0</th>\n      <td>153.400</td>\n      <td>0.049040</td>\n      <td>0.015870</td>\n      <td>0.05373</td>\n      <td>0.006193</td>\n      <td>1001.0</td>\n      <td>0.27760</td>\n      <td>0.147100</td>\n      <td>0.30010</td>\n      <td>0.07871</td>\n      <td>...</td>\n      <td>2019.0</td>\n      <td>0.66560</td>\n      <td>0.26540</td>\n      <td>0.71190</td>\n      <td>0.11890</td>\n      <td>184.60</td>\n      <td>25.380</td>\n      <td>0.16220</td>\n      <td>0.4601</td>\n      <td>17.33</td>\n    </tr>\n    <tr>\n      <th>1</th>\n      <td>74.080</td>\n      <td>0.013080</td>\n      <td>0.013400</td>\n      <td>0.01860</td>\n      <td>0.003532</td>\n      <td>1326.0</td>\n      <td>0.07864</td>\n      <td>0.070170</td>\n      <td>0.08690</td>\n      <td>0.05667</td>\n      <td>...</td>\n      <td>1956.0</td>\n      <td>0.18660</td>\n      <td>0.18600</td>\n      <td>0.24160</td>\n      <td>0.08902</td>\n      <td>158.80</td>\n      <td>24.990</td>\n      <td>0.12380</td>\n      <td>0.2750</td>\n      <td>23.41</td>\n    </tr>\n    <tr>\n      <th>2</th>\n      <td>94.030</td>\n      <td>0.040060</td>\n      <td>0.020580</td>\n      <td>0.03832</td>\n      <td>0.004571</td>\n      <td>1203.0</td>\n      <td>0.15990</td>\n      <td>0.127900</td>\n      <td>0.19740</td>\n      <td>0.05999</td>\n      <td>...</td>\n      <td>1709.0</td>\n      <td>0.42450</td>\n      <td>0.24300</td>\n      <td>0.45040</td>\n      <td>0.08758</td>\n      <td>152.50</td>\n      <td>23.570</td>\n      <td>0.14440</td>\n      <td>0.3613</td>\n      <td>25.53</td>\n    </tr>\n    <tr>\n      <th>3</th>\n      <td>27.230</td>\n      <td>0.074580</td>\n      <td>0.018670</td>\n      <td>0.05661</td>\n      <td>0.009208</td>\n      <td>386.1</td>\n      <td>0.28390</td>\n      <td>0.105200</td>\n      <td>0.24140</td>\n      <td>0.09744</td>\n      <td>...</td>\n      <td>567.7</td>\n      <td>0.86630</td>\n      <td>0.25750</td>\n      <td>0.68690</td>\n      <td>0.17300</td>\n      <td>98.87</td>\n      <td>14.910</td>\n      <td>0.20980</td>\n      <td>0.6638</td>\n      <td>26.50</td>\n    </tr>\n    <tr>\n      <th>4</th>\n      <td>94.440</td>\n      <td>0.024610</td>\n      <td>0.018850</td>\n      <td>0.05688</td>\n      <td>0.005115</td>\n      <td>1297.0</td>\n      <td>0.13280</td>\n      <td>0.104300</td>\n      <td>0.19800</td>\n      <td>0.05883</td>\n      <td>...</td>\n      <td>1575.0</td>\n      <td>0.20500</td>\n      <td>0.16250</td>\n      <td>0.40000</td>\n      <td>0.07678</td>\n      <td>152.20</td>\n      <td>22.540</td>\n      <td>0.13740</td>\n      <td>0.2364</td>\n      <td>16.67</td>\n    </tr>\n  </tbody>\n</table>\n<p>362 rows × 31 columns</p>\n</div>"
     },
     "metadata": {},
     "execution_count": 41
    }
   ],
   "source": [
    "# 기존 양성 환자수 357에 악성환자 5개 추가\n",
    "sample = pd.concat([pos, neg[:5]], sort=True)\n",
    "sample"
   ]
  },
  {
   "cell_type": "code",
   "execution_count": 43,
   "metadata": {},
   "outputs": [],
   "source": [
    "# 학습 데이터 분할\n",
    "x_train, x_test, y_train, y_test = train_test_split(sample.drop('target', 1), sample['target'], random_state=42)"
   ]
  },
  {
   "cell_type": "code",
   "execution_count": 44,
   "metadata": {},
   "outputs": [],
   "source": [
    "from sklearn.linear_model import LogisticRegression "
   ]
  },
  {
   "cell_type": "code",
   "execution_count": 45,
   "metadata": {},
   "outputs": [
    {
     "output_type": "stream",
     "name": "stderr",
     "text": [
      "C:\\ProgramData\\Anaconda3\\lib\\site-packages\\sklearn\\linear_model\\_logistic.py:762: ConvergenceWarning: lbfgs failed to converge (status=1):\nSTOP: TOTAL NO. of ITERATIONS REACHED LIMIT.\n\nIncrease the number of iterations (max_iter) or scale the data as shown in:\n    https://scikit-learn.org/stable/modules/preprocessing.html\nPlease also refer to the documentation for alternative solver options:\n    https://scikit-learn.org/stable/modules/linear_model.html#logistic-regression\n  n_iter_i = _check_optimize_result(\n"
     ]
    }
   ],
   "source": [
    "model = LogisticRegression()\n",
    "model.fit(x_train, y_train)\n",
    "pred = model.predict(x_test)"
   ]
  },
  {
   "cell_type": "code",
   "execution_count": 46,
   "metadata": {},
   "outputs": [
    {
     "output_type": "execute_result",
     "data": {
      "text/plain": [
       "0.978021978021978"
      ]
     },
     "metadata": {},
     "execution_count": 46
    }
   ],
   "source": [
    "(pred == y_test).mean()"
   ]
  },
  {
   "cell_type": "code",
   "execution_count": 47,
   "metadata": {},
   "outputs": [],
   "source": [
    "# 비교적 악성환자는 적기 때문에 다 1로 예측(양성으로)\n",
    "my_prediction = np.ones(shape=y_test.shape)"
   ]
  },
  {
   "cell_type": "code",
   "execution_count": 49,
   "metadata": {},
   "outputs": [
    {
     "output_type": "execute_result",
     "data": {
      "text/plain": [
       "0.989010989010989"
      ]
     },
     "metadata": {},
     "execution_count": 49
    }
   ],
   "source": [
    "# 정확도가 더 높다.\n",
    "(my_prediction == y_test).mean()"
   ]
  },
  {
   "source": [
    "정확도만 놓고 본다면 무조건 음성환자로 예측하는 분류기가 성능이 좋다.\n",
    "하지만 의사가 무조건 **음성환자로 예측해서 예측률 98.9%로 말하는 의사**는 자질이 좋은 의사인가?"
   ],
   "cell_type": "markdown",
   "metadata": {}
  },
  {
   "source": [
    "정확도만 보고 분류기의 성능을 판별하는 것은 **위와 같은 오류**가 있다.\n",
    "이를 보완하기 위해, 정확도를 개선하기 위해 생겨난 지표들이 있다."
   ],
   "cell_type": "markdown",
   "metadata": {}
  },
  {
   "cell_type": "code",
   "execution_count": null,
   "metadata": {},
   "outputs": [],
   "source": []
  }
 ]
}