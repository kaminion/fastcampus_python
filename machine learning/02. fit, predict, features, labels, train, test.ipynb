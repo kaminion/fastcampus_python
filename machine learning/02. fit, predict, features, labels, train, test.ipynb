{
 "cells": [
  {
   "cell_type": "code",
   "execution_count": 1,
   "metadata": {},
   "outputs": [],
   "source": [
    "import numpy as np\n",
    "from sklearn.linear_model import LinearRegression"
   ]
  },
  {
   "cell_type": "code",
   "execution_count": 36,
   "metadata": {},
   "outputs": [],
   "source": [
    "x = np.arange(10).reshape(-1, 1) # 1 : 재 정렬될 array 같은것, 2 튜플을 몇개 씩 나눌건지\n",
    "y = (2 * x + 1).reshape(-1, 1)"
   ]
  },
  {
   "cell_type": "code",
   "execution_count": 37,
   "metadata": {},
   "outputs": [
    {
     "data": {
      "text/plain": [
       "array([[0],\n",
       "       [1],\n",
       "       [2],\n",
       "       [3],\n",
       "       [4],\n",
       "       [5],\n",
       "       [6],\n",
       "       [7],\n",
       "       [8],\n",
       "       [9]])"
      ]
     },
     "execution_count": 37,
     "metadata": {},
     "output_type": "execute_result"
    }
   ],
   "source": [
    "x"
   ]
  },
  {
   "cell_type": "code",
   "execution_count": 38,
   "metadata": {},
   "outputs": [
    {
     "data": {
      "text/plain": [
       "array([[ 1],\n",
       "       [ 3],\n",
       "       [ 5],\n",
       "       [ 7],\n",
       "       [ 9],\n",
       "       [11],\n",
       "       [13],\n",
       "       [15],\n",
       "       [17],\n",
       "       [19]])"
      ]
     },
     "execution_count": 38,
     "metadata": {},
     "output_type": "execute_result"
    }
   ],
   "source": [
    "y"
   ]
  },
  {
   "cell_type": "code",
   "execution_count": 39,
   "metadata": {},
   "outputs": [],
   "source": [
    "# 모델 선언\n",
    "model = LinearRegression()"
   ]
  },
  {
   "cell_type": "code",
   "execution_count": 42,
   "metadata": {},
   "outputs": [
    {
     "data": {
      "text/plain": [
       "LinearRegression()"
      ]
     },
     "execution_count": 42,
     "metadata": {},
     "output_type": "execute_result"
    }
   ],
   "source": [
    "# 모델 학습 x : 데이터, y : 예측값\n",
    "model.fit(x, y) # 학습데이터 두개 (x_train, y_train)"
   ]
  },
  {
   "cell_type": "code",
   "execution_count": 45,
   "metadata": {},
   "outputs": [],
   "source": [
    "prediction = model.predict([[10.0]]) # x_test를 모델에 넣어 예측값 도출"
   ]
  },
  {
   "cell_type": "code",
   "execution_count": 44,
   "metadata": {},
   "outputs": [
    {
     "data": {
      "text/plain": [
       "array([[21.]])"
      ]
     },
     "execution_count": 44,
     "metadata": {},
     "output_type": "execute_result"
    }
   ],
   "source": [
    "prediction # x가 어떤 값일 때 y의 값을 예측한 결과이다."
   ]
  },
  {
   "cell_type": "code",
   "execution_count": null,
   "metadata": {},
   "outputs": [],
   "source": []
  },
  {
   "cell_type": "markdown",
   "metadata": {},
   "source": [
    "### 용어 정리\n",
    "\n",
    "* 지도 학습에서 많이 쓰는 용어 \n",
    "\n",
    "### X : \n",
    "- features라고 불림\n",
    "- x_train, x_test \n",
    "- 학습을 위한 데이터 세트, **예측할 값** 은 빠져있습니다.\n",
    "- 예시) 지역, 평형 정보, 층수 정보, 동네, 거주민 평균 나이 ...\n",
    "\n",
    "### Y : \n",
    "- labels 라고 불리움.\n",
    "- y_train, y_test\n",
    "- 예측해야할 값, 예측 값만 존재\n",
    "- 예시) 집 값\n",
    "\n",
    "전반적인 process\n",
    "x -> 모델 통과 -> y값을 맞추는 process 로 진행됨\n",
    "\n",
    "model.fit(x, y)에서 x가 학습 값, y가 예측 값"
   ]
  },
  {
   "cell_type": "markdown",
   "metadata": {},
   "source": [
    "### train, test\n",
    "\n",
    "- label의 유무에 따라 달라짐\n",
    "\n",
    "학습을 위한 데이터 = Training Set\n",
    "\n",
    "- 모델이 학습하기 위해 필요한 데이터\n",
    "- feature(x) /label(y) 이 모두 존재\n",
    "- 보통은 train 데이터 중에 x데이터는 x_train, y데이터는 y_train\n",
    "\n",
    "예측을 위한 데이터 = Test Set\n",
    "\n",
    "- 모델이 예측하기 위한 데이터\n",
    "- feature 만 존재\n",
    "- x_test 만 보통은 존재 y_test는 맞춰야 할 값 (보통 없음)\n",
    "- x_train, y_train으로 학습을 진행한 뒤 x_test를 모델에 넣어 예측값 도출"
   ]
  },
  {
   "cell_type": "code",
   "execution_count": null,
   "metadata": {},
   "outputs": [],
   "source": []
  }
 ],
 "metadata": {
  "kernelspec": {
   "display_name": "Python 3",
   "language": "python",
   "name": "python3"
  },
  "language_info": {
   "codemirror_mode": {
    "name": "ipython",
    "version": 3
   },
   "file_extension": ".py",
   "mimetype": "text/x-python",
   "name": "python",
   "nbconvert_exporter": "python",
   "pygments_lexer": "ipython3",
   "version": "3.8.3"
  }
 },
 "nbformat": 4,
 "nbformat_minor": 4
}
