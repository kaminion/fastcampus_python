{
 "cells": [
  {
   "cell_type": "markdown",
   "metadata": {},
   "source": [
    "### 과대적합 / 과소적합\n",
    "\n",
    "\n",
    "#### OVERFITTING - 과하게 학습\n",
    "- 본인 가진 학습데이터는 성능이 좋음\n",
    "- 실제 사례에는 성능이 떨어질 수 있음\n",
    "\n",
    "\n",
    "#### OPTIMUM - 최고의 성능 발휘\n",
    "\n",
    "\n",
    "\n",
    "#### UNDERFITTING - 과소하게 학습\n",
    "- 학습이 덜 된 상태여서 분류를 잘 못함\n",
    "\n",
    "- 머신러닝에서 에러가 떨어진다고 모델성능이 좋은게 아님\n",
    "- training error와 testing error가 동시에 떨어지다가 testing error가 증가\n",
    "- best complexity를 찾아야함\n",
    "\n",
    "epoch(횟수)\n",
    "\n",
    "- training set을 training set과 validation set으로 나누어야함\n",
    "- 학습을 위한 데이터(training set, 80%) \n",
    "- 검증을 위한 데이터(Validation Set, 20%)\n",
    "\n",
    "- train data로 학습을 하고, validation data로 모니터\n",
    "- train data는 학습할 수록 무한히 에러 감소\n",
    "- 학습된 데이터가지고 validation set으로 모의 테스트\n",
    "- validation error가 증대 되는 시점이 optimum이라고 볼 수 있다.\n",
    "- 절대 학습할 때 Validation Set이 관여 되면 안됨(섞이면 X)\n"
   ]
  },
  {
   "cell_type": "code",
   "execution_count": null,
   "metadata": {},
   "outputs": [],
   "source": []
  },
  {
   "cell_type": "code",
   "execution_count": null,
   "metadata": {},
   "outputs": [],
   "source": []
  },
  {
   "cell_type": "code",
   "execution_count": null,
   "metadata": {},
   "outputs": [],
   "source": []
  },
  {
   "cell_type": "code",
   "execution_count": null,
   "metadata": {},
   "outputs": [],
   "source": [
    "\n",
    "\n",
    "\n"
   ]
  },
  {
   "cell_type": "code",
   "execution_count": null,
   "metadata": {},
   "outputs": [],
   "source": []
  },
  {
   "cell_type": "code",
   "execution_count": null,
   "metadata": {},
   "outputs": [],
   "source": []
  },
  {
   "cell_type": "code",
   "execution_count": null,
   "metadata": {},
   "outputs": [],
   "source": []
  },
  {
   "cell_type": "code",
   "execution_count": null,
   "metadata": {},
   "outputs": [],
   "source": []
  },
  {
   "cell_type": "code",
   "execution_count": null,
   "metadata": {},
   "outputs": [],
   "source": []
  },
  {
   "cell_type": "code",
   "execution_count": null,
   "metadata": {},
   "outputs": [],
   "source": []
  },
  {
   "cell_type": "code",
   "execution_count": null,
   "metadata": {},
   "outputs": [],
   "source": []
  },
  {
   "cell_type": "code",
   "execution_count": null,
   "metadata": {},
   "outputs": [],
   "source": []
  },
  {
   "cell_type": "code",
   "execution_count": null,
   "metadata": {},
   "outputs": [],
   "source": []
  },
  {
   "cell_type": "code",
   "execution_count": null,
   "metadata": {},
   "outputs": [],
   "source": []
  }
 ],
 "metadata": {
  "kernelspec": {
   "display_name": "Python 3",
   "language": "python",
   "name": "python3"
  },
  "language_info": {
   "codemirror_mode": {
    "name": "ipython",
    "version": 3
   },
   "file_extension": ".py",
   "mimetype": "text/x-python",
   "name": "python",
   "nbconvert_exporter": "python",
   "pygments_lexer": "ipython3",
   "version": "3.8.3"
  }
 },
 "nbformat": 4,
 "nbformat_minor": 4
}
